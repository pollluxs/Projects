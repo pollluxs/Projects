{
 "cells": [
  {
   "cell_type": "code",
   "execution_count": 1,
   "metadata": {
    "scrolled": false
   },
   "outputs": [
    {
     "name": "stdout",
     "output_type": "stream",
     "text": [
      "pygame 1.9.6\n",
      "Hello from the pygame community. https://www.pygame.org/contribute.html\n"
     ]
    }
   ],
   "source": [
    "import pygame"
   ]
  },
  {
   "cell_type": "code",
   "execution_count": 2,
   "metadata": {},
   "outputs": [],
   "source": [
    "# setting size of screen & title\n",
    "screen_title = 'Angie\\'s Adventure'\n",
    "screen_width = 800\n",
    "screen_height = 800"
   ]
  },
  {
   "cell_type": "code",
   "execution_count": 3,
   "metadata": {},
   "outputs": [
    {
     "data": {
      "text/plain": [
       "(6, 0)"
      ]
     },
     "execution_count": 3,
     "metadata": {},
     "output_type": "execute_result"
    }
   ],
   "source": [
    "# start game\n",
    "pygame.init()"
   ]
  },
  {
   "cell_type": "code",
   "execution_count": 4,
   "metadata": {},
   "outputs": [],
   "source": [
    "# colors using Red Green Blue codes RGB \n",
    "white_color = (255,255,255)\n",
    "green_color = (0,255,0)\n",
    "blue_color = (0,0,255)\n",
    "black_color = (0,0,0)"
   ]
  },
  {
   "cell_type": "code",
   "execution_count": 5,
   "metadata": {},
   "outputs": [],
   "source": [
    "# Creating game clock\n",
    "clock = pygame.time.Clock()"
   ]
  },
  {
   "cell_type": "code",
   "execution_count": 6,
   "metadata": {},
   "outputs": [],
   "source": [
    "# End game display font\n",
    "pygame.font.init()\n",
    "font = pygame.font.SysFont('comicsans', 100)"
   ]
  },
  {
   "cell_type": "code",
   "execution_count": 7,
   "metadata": {},
   "outputs": [],
   "source": [
    "# Creating the game class loop\n",
    "class Game:\n",
    "\n",
    "    # Typical rate of 60, equivalents to Frames Per Second\n",
    "    tick_rate = 60\n",
    "    is_game_over = False\n",
    "\n",
    "    def __init__(self, image_path, title, width, height):\n",
    "        self.title = title\n",
    "        self.width = width\n",
    "        self.height = height\n",
    "        \n",
    "        # Create the window of specified size in white to display the game\n",
    "        self.game_screen = pygame.display.set_mode((width, height))\n",
    "\n",
    "        # Set the game window color to white\n",
    "        self.game_screen.fill(white_color)\n",
    "        pygame.display.set_caption(title)\n",
    "\n",
    "        background_image = pygame.image.load(image_path)\n",
    "        self.image = pygame.transform.scale(background_image, (width, height))\n",
    "\n",
    "    def run_game_loop(self,):\n",
    "        is_game_over = False\n",
    "        direction = 0\n",
    "\n",
    "        player_character = PlayerCharacter('shelly.jpg', 375, 740, 50, 50)\n",
    "        non_player_character = NonPlayerCharacter('cow.png', 20, 400, 30, 30)\n",
    "        treasure = GameObject('treasure.png', 375, 20, 40, 40)\n",
    "        # Main game loop, used to update all gameplay (movement, checks, graphics)\n",
    "        # Runs until is_game_over = True\n",
    "        while not is_game_over:\n",
    "\n",
    "            # A loop to get all of the events occuring at a given time\n",
    "            # Events are most often mouse movement, mouse and button clicks, or exit events\n",
    "            for event in pygame.event.get():\n",
    "                # If we have a quit type event (exit out) the exit out of the game loop\n",
    "                if event.type == pygame.QUIT:\n",
    "                    is_game_over = True\n",
    "                # Detect when a key is pressed down\n",
    "                elif event.type == pygame.KEYDOWN:\n",
    "                    # Move up if up key is pressed\n",
    "                    if event.key == pygame.K_UP:\n",
    "                        direction = 1\n",
    "                    # Move down if down key is pressed\n",
    "                    elif event.key == pygame. K_DOWN:\n",
    "                        direction = -1\n",
    "                # Detect when the key is released\n",
    "                elif event.type == pygame.KEYUP:\n",
    "                    # Stop movement when the key is released\n",
    "                    if event.key == pygame.K_UP or event.key == pygame.K_DOWN:\n",
    "                        direction = 0\n",
    "                print(event)\n",
    "\n",
    "            # Redraw the screen to be a blank white window\n",
    "            self.game_screen.fill(white_color)\n",
    "            self.game_screen.blit(self.image, (0,0))\n",
    "\n",
    "            # Draw the treasure\n",
    "            treasure.draw(self.game_screen)\n",
    "            \n",
    "            # Update the player position\n",
    "            player_character.move(direction, self.height)\n",
    "            \n",
    "            # Draw the player at new postion\n",
    "            player_character.draw(self.game_screen)\n",
    "\n",
    "            # Draw NPC at start positition and move character\n",
    "            non_player_character.move(self.width)\n",
    "            non_player_character.draw(self.game_screen)\n",
    "\n",
    "            # End game is collision happens with NPC or treasure\n",
    "            if player_character.detect_collision(non_player_character):\n",
    "                is_game_over = True\n",
    "                did_win = False\n",
    "                text = font.render('You Lose', True, black_color)\n",
    "                self.game_screen.blit(text,(300,350))\n",
    "                pygame.display.update()\n",
    "                clock.tick(1)\n",
    "                break\n",
    "            elif player_character.detect_collision(treasure):\n",
    "                is_game_over = True\n",
    "                did_win = True\n",
    "                text = font.render('You Win', True, black_color)\n",
    "                self.game_screen.blit(text,(300,350))\n",
    "                pygame.display.update()\n",
    "                clock.tick(1)\n",
    "                break\n",
    "            # Update all game graphics\n",
    "            pygame.display.update()\n",
    "            # Tick the clock to update everything with in the game\n",
    "            clock.tick(self.tick_rate)\n",
    "\n",
    "        if did_win:\n",
    "            self.run_game_loop()\n",
    "        else:\n",
    "            return"
   ]
  },
  {
   "cell_type": "code",
   "execution_count": 8,
   "metadata": {},
   "outputs": [],
   "source": [
    "# Class to represent any object in the game\n",
    "class GameObject:\n",
    "\n",
    "    def __init__(self, image_path, x, y, width, height):\n",
    "\n",
    "        # Load object image\n",
    "        object_image = pygame.image.load(image_path)\n",
    "        # Scale object image\n",
    "        self.image = pygame.transform.scale(object_image, (width, height))\n",
    "        \n",
    "        self.x_pos = x\n",
    "        self.y_pos = y\n",
    "\n",
    "        self.width = width\n",
    "        self.height = height\n",
    "\n",
    "    # Draw object by blitting it onto the background (game screen)\n",
    "    def draw(self, background):\n",
    "        background.blit(self.image, (self.x_pos, self.y_pos))"
   ]
  },
  {
   "cell_type": "code",
   "execution_count": 9,
   "metadata": {},
   "outputs": [],
   "source": [
    "# Class to represent the character controlled by the player\n",
    "class PlayerCharacter(GameObject):\n",
    "\n",
    "    # How many tiles the character moves per secon\n",
    "    Speed = 10\n",
    "    \n",
    "    def __init__(self, image_path, x, y, width, height):\n",
    "        super().__init__(image_path, x, y, width, height)\n",
    "\n",
    "    # Move function will move character up if direction is > 0 and down if < 0\n",
    "    def move(self, direction, max_height):\n",
    "        if direction > 0:\n",
    "            self.y_pos -= self.Speed\n",
    "        elif direction < 0:\n",
    "            self.y_pos += self.Speed\n",
    "\n",
    "        # Make sure the character never goes past the bottom of the screen\n",
    "        if self.y_pos >= max_height - 60:\n",
    "            self.y_pos = max_height - 60\n",
    "\n",
    "    def detect_collision(self, other_body):\n",
    "        # Checking for Y axis overlap\n",
    "        if self.y_pos > other_body.y_pos + other_body.height:\n",
    "            return False\n",
    "        elif self.y_pos + self.height < other_body.y_pos:\n",
    "            return False\n",
    "        # Checking for X axis overlap\n",
    "        if self.x_pos > other_body.x_pos + other_body.width:\n",
    "            return False\n",
    "        elif self.x_pos + self.width < other_body.x_pos:\n",
    "            return False\n",
    "        # Only returns True when there is an overlap on both axis\n",
    "        return True"
   ]
  },
  {
   "cell_type": "code",
   "execution_count": 10,
   "metadata": {},
   "outputs": [],
   "source": [
    "# NPC creation (Enemy Characters)\n",
    "# Class to represent the characters NOT controlled by the player\n",
    "class NonPlayerCharacter(GameObject):\n",
    "\n",
    "    # How many tiles the character moves per second\n",
    "    Speed = 10\n",
    "    \n",
    "    def __init__(self, image_path, x, y, width, height):\n",
    "        super().__init__(image_path, x, y, width, height)\n",
    "\n",
    "    # Move function will move character up if direction is > 0 and down if < 0\n",
    "    def move(self, max_width):\n",
    "        if self.x_pos <= 20:\n",
    "            self.Speed = abs(self.Speed)\n",
    "        elif self.x_pos >= max_width - 40:\n",
    "            self.Speed = -abs(self.Speed)\n",
    "        self.x_pos += self.Speed"
   ]
  },
  {
   "cell_type": "code",
   "execution_count": 11,
   "metadata": {
    "scrolled": true
   },
   "outputs": [
    {
     "name": "stdout",
     "output_type": "stream",
     "text": [
      "<Event(17-VideoExpose {})>\n",
      "<Event(16-VideoResize {'size': (800, 800), 'w': 800, 'h': 800})>\n",
      "<Event(1-ActiveEvent {'gain': 0, 'state': 1})>\n",
      "<Event(1-ActiveEvent {'gain': 1, 'state': 1})>\n",
      "<Event(4-MouseMotion {'pos': (63, 159), 'rel': (63, 159), 'buttons': (0, 0, 0), 'window': None})>\n",
      "<Event(4-MouseMotion {'pos': (128, 159), 'rel': (65, 0), 'buttons': (0, 0, 0), 'window': None})>\n",
      "<Event(4-MouseMotion {'pos': (196, 163), 'rel': (68, 4), 'buttons': (0, 0, 0), 'window': None})>\n",
      "<Event(4-MouseMotion {'pos': (258, 165), 'rel': (62, 2), 'buttons': (0, 0, 0), 'window': None})>\n",
      "<Event(4-MouseMotion {'pos': (386, 172), 'rel': (128, 7), 'buttons': (0, 0, 0), 'window': None})>\n",
      "<Event(4-MouseMotion {'pos': (449, 174), 'rel': (63, 2), 'buttons': (0, 0, 0), 'window': None})>\n",
      "<Event(4-MouseMotion {'pos': (517, 178), 'rel': (68, 4), 'buttons': (0, 0, 0), 'window': None})>\n",
      "<Event(4-MouseMotion {'pos': (613, 181), 'rel': (96, 3), 'buttons': (0, 0, 0), 'window': None})>\n",
      "<Event(4-MouseMotion {'pos': (646, 183), 'rel': (33, 2), 'buttons': (0, 0, 0), 'window': None})>\n",
      "<Event(4-MouseMotion {'pos': (665, 183), 'rel': (19, 0), 'buttons': (0, 0, 0), 'window': None})>\n",
      "<Event(4-MouseMotion {'pos': (678, 183), 'rel': (13, 0), 'buttons': (0, 0, 0), 'window': None})>\n",
      "<Event(4-MouseMotion {'pos': (687, 183), 'rel': (9, 0), 'buttons': (0, 0, 0), 'window': None})>\n",
      "<Event(4-MouseMotion {'pos': (694, 183), 'rel': (7, 0), 'buttons': (0, 0, 0), 'window': None})>\n",
      "<Event(4-MouseMotion {'pos': (697, 183), 'rel': (3, 0), 'buttons': (0, 0, 0), 'window': None})>\n",
      "<Event(4-MouseMotion {'pos': (704, 182), 'rel': (7, -1), 'buttons': (0, 0, 0), 'window': None})>\n",
      "<Event(4-MouseMotion {'pos': (715, 181), 'rel': (11, -1), 'buttons': (0, 0, 0), 'window': None})>\n",
      "<Event(4-MouseMotion {'pos': (725, 180), 'rel': (10, -1), 'buttons': (0, 0, 0), 'window': None})>\n",
      "<Event(4-MouseMotion {'pos': (736, 177), 'rel': (11, -3), 'buttons': (0, 0, 0), 'window': None})>\n",
      "<Event(4-MouseMotion {'pos': (738, 176), 'rel': (2, -1), 'buttons': (0, 0, 0), 'window': None})>\n",
      "<Event(4-MouseMotion {'pos': (737, 176), 'rel': (-1, 0), 'buttons': (0, 0, 0), 'window': None})>\n",
      "<Event(4-MouseMotion {'pos': (736, 176), 'rel': (-1, 0), 'buttons': (0, 0, 0), 'window': None})>\n",
      "<Event(4-MouseMotion {'pos': (735, 176), 'rel': (-1, 0), 'buttons': (0, 0, 0), 'window': None})>\n",
      "<Event(2-KeyDown {'unicode': '', 'key': 273, 'mod': 0, 'scancode': 72, 'window': None})>\n",
      "<Event(3-KeyUp {'key': 273, 'mod': 0, 'scancode': 72, 'window': None})>\n",
      "<Event(2-KeyDown {'unicode': '', 'key': 273, 'mod': 0, 'scancode': 72, 'window': None})>\n",
      "<Event(3-KeyUp {'key': 273, 'mod': 0, 'scancode': 72, 'window': None})>\n",
      "<Event(4-MouseMotion {'pos': (734, 176), 'rel': (-1, 0), 'buttons': (0, 0, 0), 'window': None})>\n",
      "<Event(2-KeyDown {'unicode': '', 'key': 276, 'mod': 0, 'scancode': 75, 'window': None})>\n",
      "<Event(2-KeyDown {'unicode': '', 'key': 273, 'mod': 0, 'scancode': 72, 'window': None})>\n",
      "<Event(3-KeyUp {'key': 276, 'mod': 0, 'scancode': 75, 'window': None})>\n",
      "<Event(3-KeyUp {'key': 273, 'mod': 0, 'scancode': 72, 'window': None})>\n",
      "<Event(2-KeyDown {'unicode': '', 'key': 274, 'mod': 0, 'scancode': 80, 'window': None})>\n",
      "<Event(3-KeyUp {'key': 274, 'mod': 0, 'scancode': 80, 'window': None})>\n",
      "<Event(2-KeyDown {'unicode': '', 'key': 273, 'mod': 0, 'scancode': 72, 'window': None})>\n",
      "<Event(3-KeyUp {'key': 273, 'mod': 0, 'scancode': 72, 'window': None})>\n",
      "<Event(2-KeyDown {'unicode': '', 'key': 276, 'mod': 0, 'scancode': 75, 'window': None})>\n",
      "<Event(3-KeyUp {'key': 276, 'mod': 0, 'scancode': 75, 'window': None})>\n",
      "<Event(2-KeyDown {'unicode': '', 'key': 274, 'mod': 0, 'scancode': 80, 'window': None})>\n",
      "<Event(2-KeyDown {'unicode': '', 'key': 275, 'mod': 0, 'scancode': 77, 'window': None})>\n",
      "<Event(3-KeyUp {'key': 274, 'mod': 0, 'scancode': 80, 'window': None})>\n",
      "<Event(3-KeyUp {'key': 275, 'mod': 0, 'scancode': 77, 'window': None})>\n",
      "<Event(2-KeyDown {'unicode': '', 'key': 273, 'mod': 0, 'scancode': 72, 'window': None})>\n",
      "<Event(3-KeyUp {'key': 273, 'mod': 0, 'scancode': 72, 'window': None})>\n",
      "<Event(2-KeyDown {'unicode': '', 'key': 273, 'mod': 0, 'scancode': 72, 'window': None})>\n",
      "<Event(4-MouseMotion {'pos': (733, 176), 'rel': (-1, 0), 'buttons': (0, 0, 0), 'window': None})>\n",
      "<Event(3-KeyUp {'key': 273, 'mod': 0, 'scancode': 72, 'window': None})>\n",
      "<Event(4-MouseMotion {'pos': (732, 176), 'rel': (-1, 0), 'buttons': (0, 0, 0), 'window': None})>\n",
      "<Event(2-KeyDown {'unicode': '', 'key': 273, 'mod': 0, 'scancode': 72, 'window': None})>\n",
      "<Event(3-KeyUp {'key': 273, 'mod': 0, 'scancode': 72, 'window': None})>\n",
      "<Event(2-KeyDown {'unicode': '', 'key': 273, 'mod': 0, 'scancode': 72, 'window': None})>\n",
      "<Event(3-KeyUp {'key': 273, 'mod': 0, 'scancode': 72, 'window': None})>\n",
      "<Event(4-MouseMotion {'pos': (732, 177), 'rel': (0, 1), 'buttons': (0, 0, 0), 'window': None})>\n",
      "<Event(4-MouseMotion {'pos': (731, 177), 'rel': (-1, 0), 'buttons': (0, 0, 0), 'window': None})>\n",
      "<Event(4-MouseMotion {'pos': (730, 177), 'rel': (-1, 0), 'buttons': (0, 0, 0), 'window': None})>\n",
      "<Event(4-MouseMotion {'pos': (729, 176), 'rel': (-1, -1), 'buttons': (0, 0, 0), 'window': None})>\n",
      "<Event(4-MouseMotion {'pos': (700, 143), 'rel': (-29, -33), 'buttons': (0, 0, 0), 'window': None})>\n",
      "<Event(4-MouseMotion {'pos': (695, 142), 'rel': (-5, -1), 'buttons': (0, 0, 0), 'window': None})>\n",
      "<Event(4-MouseMotion {'pos': (640, 108), 'rel': (-55, -34), 'buttons': (0, 0, 0), 'window': None})>\n",
      "<Event(4-MouseMotion {'pos': (549, 46), 'rel': (-91, -62), 'buttons': (0, 0, 0), 'window': None})>\n",
      "<Event(1-ActiveEvent {'gain': 0, 'state': 1})>\n",
      "<Event(1-ActiveEvent {'gain': 1, 'state': 1})>\n",
      "<Event(4-MouseMotion {'pos': (82, 35), 'rel': (-467, -11), 'buttons': (0, 0, 0), 'window': None})>\n",
      "<Event(4-MouseMotion {'pos': (0, 165), 'rel': (-82, 130), 'buttons': (0, 0, 0), 'window': None})>\n",
      "<Event(4-MouseMotion {'pos': (0, 217), 'rel': (0, 52), 'buttons': (0, 0, 0), 'window': None})>\n",
      "<Event(1-ActiveEvent {'gain': 0, 'state': 1})>\n",
      "<Event(1-ActiveEvent {'gain': 1, 'state': 1})>\n",
      "<Event(4-MouseMotion {'pos': (34, 29), 'rel': (34, -188), 'buttons': (0, 0, 0), 'window': None})>\n",
      "<Event(4-MouseMotion {'pos': (34, 30), 'rel': (0, 1), 'buttons': (0, 0, 0), 'window': None})>\n",
      "<Event(4-MouseMotion {'pos': (40, 39), 'rel': (6, 9), 'buttons': (0, 0, 0), 'window': None})>\n",
      "<Event(4-MouseMotion {'pos': (50, 52), 'rel': (10, 13), 'buttons': (0, 0, 0), 'window': None})>\n",
      "<Event(4-MouseMotion {'pos': (65, 70), 'rel': (15, 18), 'buttons': (0, 0, 0), 'window': None})>\n",
      "<Event(4-MouseMotion {'pos': (78, 85), 'rel': (13, 15), 'buttons': (0, 0, 0), 'window': None})>\n",
      "<Event(4-MouseMotion {'pos': (104, 110), 'rel': (26, 25), 'buttons': (0, 0, 0), 'window': None})>\n",
      "<Event(4-MouseMotion {'pos': (113, 119), 'rel': (9, 9), 'buttons': (0, 0, 0), 'window': None})>\n",
      "<Event(4-MouseMotion {'pos': (127, 133), 'rel': (14, 14), 'buttons': (0, 0, 0), 'window': None})>\n",
      "<Event(4-MouseMotion {'pos': (129, 133), 'rel': (2, 0), 'buttons': (0, 0, 0), 'window': None})>\n",
      "<Event(4-MouseMotion {'pos': (127, 135), 'rel': (-2, 2), 'buttons': (0, 0, 0), 'window': None})>\n",
      "<Event(4-MouseMotion {'pos': (134, 144), 'rel': (7, 9), 'buttons': (0, 0, 0), 'window': None})>\n",
      "<Event(4-MouseMotion {'pos': (144, 154), 'rel': (10, 10), 'buttons': (0, 0, 0), 'window': None})>\n",
      "<Event(4-MouseMotion {'pos': (151, 161), 'rel': (7, 7), 'buttons': (0, 0, 0), 'window': None})>\n",
      "<Event(4-MouseMotion {'pos': (158, 166), 'rel': (7, 5), 'buttons': (0, 0, 0), 'window': None})>\n",
      "<Event(4-MouseMotion {'pos': (164, 170), 'rel': (6, 4), 'buttons': (0, 0, 0), 'window': None})>\n",
      "<Event(4-MouseMotion {'pos': (181, 182), 'rel': (17, 12), 'buttons': (0, 0, 0), 'window': None})>\n",
      "<Event(4-MouseMotion {'pos': (186, 186), 'rel': (5, 4), 'buttons': (0, 0, 0), 'window': None})>\n",
      "<Event(4-MouseMotion {'pos': (198, 212), 'rel': (12, 26), 'buttons': (0, 0, 0), 'window': None})>\n",
      "<Event(4-MouseMotion {'pos': (204, 220), 'rel': (6, 8), 'buttons': (0, 0, 0), 'window': None})>\n",
      "<Event(4-MouseMotion {'pos': (205, 222), 'rel': (1, 2), 'buttons': (0, 0, 0), 'window': None})>\n",
      "<Event(4-MouseMotion {'pos': (206, 222), 'rel': (1, 0), 'buttons': (0, 0, 0), 'window': None})>\n",
      "<Event(2-KeyDown {'unicode': '', 'key': 274, 'mod': 0, 'scancode': 80, 'window': None})>\n"
     ]
    }
   ],
   "source": [
    "# start game\n",
    "pygame.init()\n",
    "\n",
    "new_game = Game('background.png', screen_title,  screen_width, screen_height)\n",
    "new_game.run_game_loop()\n"
   ]
  },
  {
   "cell_type": "code",
   "execution_count": 12,
   "metadata": {},
   "outputs": [],
   "source": [
    "# Quit the game and program\n",
    "pygame.quit()\n",
    "quit()"
   ]
  },
  {
   "cell_type": "code",
   "execution_count": null,
   "metadata": {},
   "outputs": [],
   "source": []
  },
  {
   "cell_type": "code",
   "execution_count": null,
   "metadata": {},
   "outputs": [],
   "source": []
  },
  {
   "cell_type": "code",
   "execution_count": null,
   "metadata": {},
   "outputs": [],
   "source": []
  }
 ],
 "metadata": {
  "kernelspec": {
   "display_name": "Python 3",
   "language": "python",
   "name": "python3"
  },
  "language_info": {
   "codemirror_mode": {
    "name": "ipython",
    "version": 3
   },
   "file_extension": ".py",
   "mimetype": "text/x-python",
   "name": "python",
   "nbconvert_exporter": "python",
   "pygments_lexer": "ipython3",
   "version": "3.6.3"
  }
 },
 "nbformat": 4,
 "nbformat_minor": 2
}
